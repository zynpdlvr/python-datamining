{
 "cells": [
  {
   "cell_type": "code",
   "execution_count": 1,
   "id": "e7db9985",
   "metadata": {},
   "outputs": [],
   "source": [
    "import pandas as pd\n",
    "import numpy as np \n",
    "import seaborn as sns\n",
    "import matplotlib.pyplot as plt\n",
    "from sklearn.decomposition import PCA\n",
    "from sklearn.preprocessing import StandardScaler\n",
    "from sklearn.preprocessing import MinMaxScaler"
   ]
  },
  {
   "cell_type": "code",
   "execution_count": 2,
   "id": "2675bd3d",
   "metadata": {
    "scrolled": true
   },
   "outputs": [],
   "source": [
    "df=pd.read_excel(r'C:\\Users\\asus\\Desktop\\dersler\\464\\CENG 464 - Data Mining - Course Project\\Course Project - Data for Classification - Electric Vehicles.xls')\n",
    "#df.head()"
   ]
  },
  {
   "cell_type": "code",
   "execution_count": 3,
   "id": "111e4ee4",
   "metadata": {},
   "outputs": [],
   "source": [
    "#print(df.dtypes)"
   ]
  },
  {
   "cell_type": "code",
   "execution_count": 4,
   "id": "23070e53",
   "metadata": {},
   "outputs": [],
   "source": [
    "#print(df['Q16'].unique()) \n"
   ]
  },
  {
   "cell_type": "code",
   "execution_count": 5,
   "id": "4f0af2d5",
   "metadata": {},
   "outputs": [
    {
     "data": {
      "text/plain": [
       "A    2883\n",
       "B    1526\n",
       "C     892\n",
       "D     807\n",
       "Name: Q16, dtype: int64"
      ]
     },
     "execution_count": 5,
     "metadata": {},
     "output_type": "execute_result"
    }
   ],
   "source": [
    "df['Q16'].value_counts() "
   ]
  },
  {
   "cell_type": "code",
   "execution_count": 6,
   "id": "e217a002",
   "metadata": {},
   "outputs": [],
   "source": [
    "# Assuming 'df' is your DataFrame\n",
    "import numpy as np\n",
    "\n",
    "# Replace non-numeric values with NaN\n",
    "df.replace('?', np.nan, inplace=True)\n",
    "#df.head()"
   ]
  },
  {
   "cell_type": "code",
   "execution_count": 7,
   "id": "36ed904e",
   "metadata": {
    "scrolled": true
   },
   "outputs": [
    {
     "name": "stdout",
     "output_type": "stream",
     "text": [
      "Imputed data shape: (6108, 75)\n"
     ]
    }
   ],
   "source": [
    "import pandas as pd\n",
    "\n",
    "# Assuming 'df' is your DataFrame\n",
    "exclude_column_name = 'Q16'  # Column to exclude from imputation\n",
    "\n",
    "# Save the excluded column\n",
    "column_to_exclude = df[exclude_column_name]\n",
    "\n",
    "# Drop the column you want to exclude for imputation\n",
    "columns_to_impute = df.drop(columns=[exclude_column_name])\n",
    "\n",
    "# Impute missing values with median\n",
    "imputed_data = columns_to_impute.fillna(columns_to_impute.median())\n",
    "\n",
    "# Create a DataFrame with imputed values\n",
    "imputed_df = pd.concat([imputed_data, column_to_exclude], axis=1)\n",
    "\n",
    "# Check the shape of the imputed data\n",
    "print(f\"Imputed data shape: {imputed_df.shape}\")\n",
    "\n",
    "# Assuming 'df' is your DataFrame and 'Q16' is the column with values A, B, C, D\n",
    "mapping = {'A': 0, 'B': 1, 'C': 1, 'D': 1}\n",
    "imputed_df['Q16'] = imputed_df['Q16'].replace(mapping)"
   ]
  },
  {
   "cell_type": "code",
   "execution_count": 8,
   "id": "d0f64784",
   "metadata": {
    "scrolled": true
   },
   "outputs": [],
   "source": [
    "# for column, dtype in imputed_df.dtypes.items():\n",
    "#     print(f\"{column}: {dtype}\")"
   ]
  },
  {
   "cell_type": "code",
   "execution_count": 9,
   "id": "9339b831",
   "metadata": {
    "scrolled": true
   },
   "outputs": [],
   "source": [
    "#print(imputed_df.isnull().sum())"
   ]
  },
  {
   "cell_type": "code",
   "execution_count": 10,
   "id": "edd37576",
   "metadata": {},
   "outputs": [
    {
     "name": "stdout",
     "output_type": "stream",
     "text": [
      "Q16       1.000000\n",
      "Q17       0.410317\n",
      "Q14       0.404485\n",
      "Q21       0.334921\n",
      "Q12_14    0.299520\n",
      "            ...   \n",
      "Q18_3    -0.220792\n",
      "Q18_8    -0.240079\n",
      "Q18_1    -0.252350\n",
      "Q13_2    -0.259878\n",
      "Q18_14   -0.386816\n",
      "Name: Q16, Length: 75, dtype: float64\n"
     ]
    }
   ],
   "source": [
    "# Calculate correlation with 'Q16' for the entire DataFrame\n",
    "correlation_with_q16 = imputed_df.corr()['Q16'].sort_values(ascending=False)\n",
    "\n",
    "# Print the correlation coefficients\n",
    "print(correlation_with_q16)"
   ]
  },
  {
   "cell_type": "code",
   "execution_count": 11,
   "id": "aedb3e1f",
   "metadata": {
    "scrolled": true
   },
   "outputs": [
    {
     "name": "stdout",
     "output_type": "stream",
     "text": [
      "Ranked Features:\n",
      "Q17       0.101637\n",
      "Q18_14    0.091128\n",
      "Q14       0.087940\n",
      "Q21       0.056286\n",
      "Q18_1     0.044758\n",
      "            ...   \n",
      "Q13_13    0.000000\n",
      "Q13_15    0.000000\n",
      "Q12_9     0.000000\n",
      "Q12_11    0.000000\n",
      "Q11_1     0.000000\n",
      "Length: 74, dtype: float64\n"
     ]
    }
   ],
   "source": [
    "import pandas as pd\n",
    "from sklearn.feature_selection import mutual_info_classif\n",
    "import matplotlib.pyplot as plt\n",
    "import seaborn as sns\n",
    "\n",
    "pd.set_option('display.max_columns', None)\n",
    "\n",
    "# Assuming df is your DataFrame\n",
    "target_column = 'Q16'\n",
    "threshold = 0.2  # Set your desired correlation threshold\n",
    "\n",
    "# Copy the DataFrame to avoid modifying the original\n",
    "imputed_df_copy = imputed_df.copy()\n",
    "\n",
    "# Use mutual_info_classif for feature selection with categorical target\n",
    "X = imputed_df_copy.drop(columns=[target_column])\n",
    "y = imputed_df_copy[target_column]\n",
    "\n",
    "# Calculate mutual information between features and target\n",
    "mutual_info_values = mutual_info_classif(X, y)\n",
    "\n",
    "# Create a Series with feature names and their mutual information scores\n",
    "feature_mutual_info = pd.Series(mutual_info_values, index=X.columns)\n",
    "\n",
    "# Select features based on the mutual information threshold\n",
    "selected_features = feature_mutual_info[feature_mutual_info > threshold].index.tolist()\n",
    "\n",
    "# Rank features by mutual information scores\n",
    "ranked_features = feature_mutual_info.sort_values(ascending=False)\n",
    "\n",
    "# Display the ranked features\n",
    "print(\"Ranked Features:\")\n",
    "print(ranked_features)"
   ]
  },
  {
   "cell_type": "code",
   "execution_count": 12,
   "id": "e22a4d6c",
   "metadata": {
    "scrolled": true
   },
   "outputs": [
    {
     "name": "stdout",
     "output_type": "stream",
     "text": [
      "Non-zero Mutual Information Scores for Features:\n",
      "Q17              0.101637\n",
      "Q18_14           0.091128\n",
      "Q14              0.087940\n",
      "Q21              0.056286\n",
      "Q18_1            0.044758\n",
      "Q12_14           0.042473\n",
      "Q13_2            0.040925\n",
      "Q18_8            0.039948\n",
      "Q13_16           0.037648\n",
      "Q11_5            0.030966\n",
      "Q18_2            0.030854\n",
      "Q18_13           0.029158\n",
      "Q13_7            0.026401\n",
      "Q18_3            0.026101\n",
      "Q18_10           0.022648\n",
      "Q18_23           0.022625\n",
      "Q12_4            0.022144\n",
      "Q13_14           0.020658\n",
      "Q18_19           0.020478\n",
      "Q18_4            0.017650\n",
      "Q13_3            0.017593\n",
      "Q18_15           0.017245\n",
      "Q18_5            0.017069\n",
      "Q12_5            0.016769\n",
      "Q18_9            0.016095\n",
      "Q20              0.016088\n",
      "Q12_Dont_Know    0.014406\n",
      "Q13_8            0.014046\n",
      "Q12_1            0.013222\n",
      "Q11_6            0.012823\n",
      "Q13_Dont_Know    0.012298\n",
      "Q18_17           0.012037\n",
      "Q11_8            0.011223\n",
      "Q15              0.010408\n",
      "Q13_9            0.010279\n",
      "Q12_10           0.010210\n",
      "dtype: float64\n"
     ]
    }
   ],
   "source": [
    "non_zero_features = ranked_features[ranked_features >0.01]\n",
    "\n",
    "# Display non-zero features and their mutual information scores\n",
    "print(\"Non-zero Mutual Information Scores for Features:\")\n",
    "print(non_zero_features)"
   ]
  },
  {
   "cell_type": "code",
   "execution_count": 13,
   "id": "f2864afd",
   "metadata": {
    "scrolled": true
   },
   "outputs": [
    {
     "name": "stdout",
     "output_type": "stream",
     "text": [
      "   Q17  Q18_14  Q14  Q21  Q18_1  Q12_14  Q13_2  Q18_8  Q13_16  Q11_5  Q18_2  \\\n",
      "0  3.0     5.0  1.0    3    5.0       0      0    5.0       0      1    5.0   \n",
      "1  3.0     4.0  3.0    3    4.0       0      0    3.0       0      0    3.0   \n",
      "2  1.0     4.0  1.0    1    5.0       0      1    4.0       0      0    4.0   \n",
      "3  2.0     3.0  2.0    3    4.0       1      0    3.0       1      0    4.0   \n",
      "4  2.0     3.0  2.0    3    4.0       0      0    3.0       0      0    4.0   \n",
      "\n",
      "   Q18_13  Q13_7  Q18_3  Q18_10  Q18_23  Q12_4  Q13_14  Q18_19  Q18_4  Q13_3  \\\n",
      "0     5.0      0    5.0     5.0     5.0      1       1     5.0    5.0      1   \n",
      "1     2.0      0    2.0     3.0     2.0      1       0     4.0    4.0      0   \n",
      "2     2.0      0    4.0     4.0     4.0      1       1     3.0    3.0      0   \n",
      "3     2.0      0    3.0     3.0     2.0      0       0     3.0    3.0      0   \n",
      "4     2.0      0    3.0     3.0     2.0      1       1     1.0    3.0      0   \n",
      "\n",
      "   Q18_15  Q18_5  Q12_5  Q18_9  Q20  Q12_Dont_Know  Q13_8  Q12_1  Q11_6  \\\n",
      "0     5.0    5.0      0    5.0    3              0      0      0      0   \n",
      "1     2.0    3.0      0    3.0    3              0      0      0      0   \n",
      "2     2.0    4.0      0    4.0    4              0      0      1      0   \n",
      "3     2.0    3.0      0    4.0    3              0      0      0      0   \n",
      "4     2.0    2.0      0    4.0    3              0      0      0      0   \n",
      "\n",
      "   Q13_Dont_Know  Q18_17  Q11_8  Q15  Q13_9  Q12_10  \n",
      "0              0     5.0      1  2.0      1       0  \n",
      "1              0     4.0      0  2.0      1       1  \n",
      "2              0     4.0      1  2.0      1       1  \n",
      "3              0     3.0      0  2.0      0       0  \n",
      "4              0     3.0      1  2.0      0       0  \n"
     ]
    }
   ],
   "source": [
    "non_zero_columns = non_zero_features.index.tolist()\n",
    "\n",
    "# Create a new DataFrame with only the non-zero columns\n",
    "new_df = imputed_df[non_zero_columns].copy()\n",
    "\n",
    "# Verify the new DataFrame\n",
    "print(new_df.head())  # Check the first few rows"
   ]
  },
  {
   "cell_type": "code",
   "execution_count": 14,
   "id": "c0a439d0",
   "metadata": {},
   "outputs": [
    {
     "name": "stdout",
     "output_type": "stream",
     "text": [
      "Joint Best Features: {'Q17'}\n"
     ]
    }
   ],
   "source": [
    "# Step 1: Mutual Information Selection\n",
    "mutual_info_threshold = 0.1  # Set your mutual information threshold\n",
    "mutual_info_selected_features = feature_mutual_info[feature_mutual_info > mutual_info_threshold].index.tolist()\n",
    "\n",
    "# Step 2: Correlation Selection\n",
    "correlation_threshold = 0.1  # Set your correlation threshold\n",
    "correlation_with_q16 = imputed_df.corr()['Q16']\n",
    "correlation_selected_features = correlation_with_q16[correlation_with_q16.abs() > correlation_threshold].index.tolist()\n",
    "\n",
    "# Step 3: Intersection of Features\n",
    "joint_best_features = set(mutual_info_selected_features).intersection(correlation_selected_features)\n",
    "print(\"Joint Best Features:\", joint_best_features)\n"
   ]
  },
  {
   "cell_type": "code",
   "execution_count": 15,
   "id": "16ebe8a0",
   "metadata": {},
   "outputs": [],
   "source": [
    "from sklearn.model_selection import train_test_split\n",
    "\n",
    "# Convert the set to a list\n",
    "joint_best_features_list = list(joint_best_features)\n",
    "\n",
    "# Define all features (including selected joint best features and other non-weighted columns)\n",
    "all_features = joint_best_features_list + [col for col in imputed_df.columns if col not in joint_best_features_list]\n",
    "\n",
    "# Consider only the selected joint best features\n",
    "X_selected = imputed_df[joint_best_features_list]\n",
    "\n",
    "# Define a weight for selected features\n",
    "weight_value = 1.5  # Define a common weight value for all selected features\n",
    "\n",
    "# Apply the same weight to all columns in the DataFrame\n",
    "X_selected_weighted = X_selected * weight_value\n",
    "\n",
    "# Combine selected features with weights and other non-weighted columns\n",
    "X = pd.concat([X_selected_weighted, imputed_df.drop(columns=joint_best_features_list)], axis=1)\n",
    "y = imputed_df['Q16']\n",
    "\n",
    "X_train, X_test, y_train, y_test = train_test_split(X, y, test_size=0.2, random_state=42)"
   ]
  },
  {
   "cell_type": "code",
   "execution_count": 16,
   "id": "a405752f",
   "metadata": {},
   "outputs": [],
   "source": [
    "# from imblearn.over_sampling import RandomOverSampler\n",
    "# from sklearn.model_selection import train_test_split\n",
    "\n",
    "# # Assuming 'X' contains the weighted features and 'y' is the target variable\n",
    "\n",
    "# # Initialize RandomOverSampler\n",
    "# ros = RandomOverSampler(random_state=42)\n",
    "\n",
    "# # Resample the data to balance the classes\n",
    "# X_resampled, y_resampled = ros.fit_resample(X, y)\n",
    "\n",
    "# # Now X_resampled and y_resampled contain the balanced dataset\n",
    "\n",
    "# # Split the resampled data into training and test sets (80% train, 20% test)\n",
    "# X_train, X_test, y_train, y_test = train_test_split(X_resampled, y_resampled, test_size=0.2, random_state=42)\n",
    "\n",
    "# print(\"Number of data samples before balancing:\", len(y))\n",
    "# print(\"Number of data samples after balancing:\", len(y_resampled))"
   ]
  },
  {
   "cell_type": "code",
   "execution_count": 17,
   "id": "376e6023",
   "metadata": {},
   "outputs": [],
   "source": [
    "# from sklearn.model_selection import train_test_split\n",
    "# from imblearn.over_sampling import SMOTE\n",
    "# from collections import Counter\n",
    "\n",
    "# X = new_df  # Feature matrix\n",
    "# # y = imputed_df['Q16']  # Target variable\n",
    "\n",
    "# # Split the data into training and test sets (80% train, 20% test)\n",
    "# X_train, X_test, y_train, y_test = train_test_split(X, y, test_size=0.2, random_state=42)\n",
    "\n",
    "# # Check the shapes of the resulting sets\n",
    "# print(f\"X_train shape: {X_train.shape}, y_train shape: {y_train.shape}\")\n",
    "# print(f\"X_test shape: {X_test.shape}, y_test shape: {y_test.shape}\")\n",
    "\n",
    "# sm = SMOTE(random_state=42)\n",
    "# X_train_balanced, y_train_balanced = sm.fit_resample(X_train, y_train)\n",
    "\n",
    "# # Check the class distribution after balancing\n",
    "# print(\"Before SMOTE:\", Counter(y_train))\n",
    "# print(\"After SMOTE:\", Counter(y_train_balanced))"
   ]
  },
  {
   "cell_type": "code",
   "execution_count": 18,
   "id": "16cac8c3",
   "metadata": {},
   "outputs": [
    {
     "name": "stdout",
     "output_type": "stream",
     "text": [
      "Decision Tree Accuracy: 1.0000\n",
      "Random Forest Accuracy: 1.0000\n",
      "Gradient Boosting Accuracy: 1.0000\n",
      "Gaussian Naive Bayes Accuracy: 1.0000\n"
     ]
    }
   ],
   "source": [
    "from sklearn.tree import DecisionTreeClassifier\n",
    "from sklearn.ensemble import RandomForestClassifier, GradientBoostingClassifier\n",
    "from sklearn.naive_bayes import GaussianNB\n",
    "from sklearn.model_selection import cross_val_score\n",
    "from imblearn.over_sampling import SMOTE\n",
    "\n",
    "# Assuming 'X' is your features and 'y' is your target variable\n",
    "# 'X_train_balanced' and 'y_train_balanced' are the balanced training data\n",
    "\n",
    "# Initialize models\n",
    "decision_tree = DecisionTreeClassifier(random_state=42)\n",
    "random_forest = RandomForestClassifier(random_state=42)\n",
    "gradient_boosting = GradientBoostingClassifier(random_state=42)\n",
    "gaussian_nb = GaussianNB()\n",
    "\n",
    "classifiers = {\n",
    "    'Decision Tree': decision_tree,\n",
    "    'Random Forest': random_forest,\n",
    "    'Gradient Boosting': gradient_boosting,\n",
    "    'Gaussian Naive Bayes': gaussian_nb\n",
    "}\n",
    "\n",
    "# Perform 5-fold cross-validation for each classifier using balanced data\n",
    "for clf_name, clf in classifiers.items():\n",
    "    # Calculate cross-validated accuracy using balanced data\n",
    "    scores = cross_val_score(clf, X_train, y_train, cv=5)\n",
    "    avg_accuracy = scores.mean()\n",
    "    print(f\"{clf_name} Accuracy: {avg_accuracy:.4f}\")\n"
   ]
  },
  {
   "cell_type": "code",
   "execution_count": 19,
   "id": "4f53d001",
   "metadata": {},
   "outputs": [
    {
     "name": "stdout",
     "output_type": "stream",
     "text": [
      "KNN Accuracy: 0.8215\n",
      "SVM Accuracy: 1.0000\n",
      "Neural Network Accuracy: 1.0000\n",
      "Logistic Regression Accuracy: 1.0000\n"
     ]
    }
   ],
   "source": [
    "from sklearn.model_selection import cross_val_score\n",
    "from sklearn.preprocessing import MinMaxScaler\n",
    "from sklearn.neighbors import KNeighborsClassifier\n",
    "from sklearn.svm import SVC\n",
    "from sklearn.neural_network import MLPClassifier\n",
    "from sklearn.linear_model import LogisticRegression\n",
    "from sklearn.model_selection import train_test_split\n",
    "from imblearn.over_sampling import SMOTE\n",
    "\n",
    "# Assuming 'X' is your features and 'y' is your target variable\n",
    "# 'X_train_balanced' and 'y_train_balanced' are the balanced training data\n",
    "\n",
    "scaler = MinMaxScaler()\n",
    "X_train_scaled = scaler.fit_transform(X_train)\n",
    "X_test_scaled = scaler.transform(X_test)\n",
    "\n",
    "# Initialize models\n",
    "knn = KNeighborsClassifier()\n",
    "svm = SVC()\n",
    "mlp = MLPClassifier(max_iter=1000, solver='adam', learning_rate_init=0.001, tol=1e-4)\n",
    "logistic = LogisticRegression(max_iter=1000)\n",
    "\n",
    "classifiers = {\n",
    "    'KNN': knn,\n",
    "    'SVM': svm,\n",
    "    'Neural Network': mlp,\n",
    "    'Logistic Regression': logistic\n",
    "}\n",
    "\n",
    "# Perform 5-fold cross-validation for each classifier using balanced data\n",
    "for clf_name, clf in classifiers.items():\n",
    "    # Calculate cross-validated accuracy using balanced data\n",
    "    scores = cross_val_score(clf, X_train, y_train, cv=5)\n",
    "    avg_accuracy = scores.mean()\n",
    "    print(f\"{clf_name} Accuracy: {avg_accuracy:.4f}\")\n"
   ]
  },
  {
   "cell_type": "code",
   "execution_count": 20,
   "id": "b7f8dc3a",
   "metadata": {
    "scrolled": true
   },
   "outputs": [
    {
     "name": "stdout",
     "output_type": "stream",
     "text": [
      "KNN Accuracy: 0.8215\n",
      "SVM Accuracy: 1.0000\n",
      "Neural Network Accuracy: 1.0000\n",
      "Logistic Regression Accuracy: 1.0000\n"
     ]
    }
   ],
   "source": [
    "from sklearn.model_selection import cross_val_score\n",
    "from sklearn.preprocessing import StandardScaler\n",
    "from sklearn.neighbors import KNeighborsClassifier\n",
    "from sklearn.svm import SVC\n",
    "from sklearn.neural_network import MLPClassifier\n",
    "from sklearn.linear_model import LogisticRegression\n",
    "from sklearn.model_selection import train_test_split\n",
    "from imblearn.over_sampling import SMOTE\n",
    "\n",
    "# Assuming 'X' is your features and 'y' is your target variable\n",
    "# 'X_train_balanced' and 'y_train_balanced' are the balanced training data\n",
    "\n",
    "# Scaling the data using StandardScaler\n",
    "scaler = StandardScaler()\n",
    "X_train_scaled = scaler.fit_transform(X_train)\n",
    "X_test_scaled = scaler.transform(X_test)\n",
    "\n",
    "# Initialize models\n",
    "knn = KNeighborsClassifier()\n",
    "svm = SVC()\n",
    "mlp = MLPClassifier(max_iter=1000, solver='adam', learning_rate_init=0.001, tol=1e-4)\n",
    "logistic = LogisticRegression(max_iter=1000)\n",
    "\n",
    "classifiers = {\n",
    "    'KNN': knn,\n",
    "    'SVM': svm,\n",
    "    'Neural Network': mlp,\n",
    "    'Logistic Regression': logistic\n",
    "}\n",
    "\n",
    "# Perform 5-fold cross-validation for each classifier using balanced data\n",
    "for clf_name, clf in classifiers.items():\n",
    "    # Calculate cross-validated accuracy using balanced data\n",
    "    scores = cross_val_score(clf, X_train, y_train, cv=5)\n",
    "    avg_accuracy = scores.mean()\n",
    "    print(f\"{clf_name} Accuracy: {avg_accuracy:.4f}\")\n"
   ]
  },
  {
   "cell_type": "code",
   "execution_count": null,
   "id": "72fff437",
   "metadata": {},
   "outputs": [],
   "source": []
  }
 ],
 "metadata": {
  "kernelspec": {
   "display_name": "Python 3 (ipykernel)",
   "language": "python",
   "name": "python3"
  },
  "language_info": {
   "codemirror_mode": {
    "name": "ipython",
    "version": 3
   },
   "file_extension": ".py",
   "mimetype": "text/x-python",
   "name": "python",
   "nbconvert_exporter": "python",
   "pygments_lexer": "ipython3",
   "version": "3.9.13"
  }
 },
 "nbformat": 4,
 "nbformat_minor": 5
}
