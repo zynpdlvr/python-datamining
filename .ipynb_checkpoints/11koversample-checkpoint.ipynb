{
 "cells": [
  {
   "cell_type": "code",
   "execution_count": 1,
   "id": "e7db9985",
   "metadata": {},
   "outputs": [],
   "source": [
    "import pandas as pd\n",
    "import numpy as np \n",
    "import seaborn as sns\n",
    "import matplotlib.pyplot as plt\n",
    "from sklearn.decomposition import PCA\n",
    "from sklearn.preprocessing import StandardScaler\n",
    "from sklearn.preprocessing import MinMaxScaler"
   ]
  },
  {
   "cell_type": "code",
   "execution_count": 2,
   "id": "2675bd3d",
   "metadata": {
    "scrolled": true
   },
   "outputs": [],
   "source": [
    "df=pd.read_excel('Course Project - Data for Classification - Electric Vehicles.xls')"
   ]
  },
  {
   "cell_type": "code",
   "execution_count": 3,
   "id": "e217a002",
   "metadata": {},
   "outputs": [],
   "source": [
    "# Assuming 'df' is your DataFrame\n",
    "import numpy as np\n",
    "\n",
    "# Replace non-numeric values with NaN\n",
    "df.replace('?', np.nan, inplace=True)\n",
    "#df.head()"
   ]
  },
  {
   "cell_type": "code",
   "execution_count": 4,
   "id": "36ed904e",
   "metadata": {
    "scrolled": true
   },
   "outputs": [
    {
     "name": "stdout",
     "output_type": "stream",
     "text": [
      "Imputed data shape: (6108, 75)\n"
     ]
    },
    {
     "data": {
      "text/plain": [
       "Q16\n",
       "0    3225\n",
       "1    2883\n",
       "Name: count, dtype: int64"
      ]
     },
     "execution_count": 4,
     "metadata": {},
     "output_type": "execute_result"
    }
   ],
   "source": [
    "import pandas as pd\n",
    "\n",
    "# Assuming 'df' is your DataFrame\n",
    "exclude_column_name = 'Q16'  # Column to exclude from imputation\n",
    "\n",
    "# Save the excluded column\n",
    "column_to_exclude = df[exclude_column_name]\n",
    "\n",
    "# Drop the column you want to exclude for imputation\n",
    "columns_to_impute = df.drop(columns=[exclude_column_name])\n",
    "\n",
    "# Impute missing values with median\n",
    "imputed_data = columns_to_impute.fillna(columns_to_impute.median())\n",
    "\n",
    "# Create a DataFrame with imputed values\n",
    "imputed_df = pd.concat([imputed_data, column_to_exclude], axis=1)\n",
    "\n",
    "# Check the shape of the imputed data\n",
    "print(f\"Imputed data shape: {imputed_df.shape}\")\n",
    "\n",
    "imputed_df['Q16'] =imputed_df['Q16'].replace({'A': 1, 'B': 0, 'C': 0, 'D': 0})\n",
    "imputed_df['Q16'].value_counts() "
   ]
  },
  {
   "cell_type": "code",
   "execution_count": 5,
   "id": "d917ad18",
   "metadata": {},
   "outputs": [],
   "source": [
    "\n",
    "# X = imputed_df.drop(columns=['Q16'])\n",
    "# y = imputed_df['Q16']\n"
   ]
  },
  {
   "cell_type": "code",
   "execution_count": 6,
   "id": "fc0c77d0",
   "metadata": {
    "scrolled": true
   },
   "outputs": [
    {
     "name": "stdout",
     "output_type": "stream",
     "text": [
      "Imputed data shape: (6450, 75)\n"
     ]
    }
   ],
   "source": [
    "from imblearn.over_sampling import RandomOverSampler\n",
    "from sklearn.model_selection import train_test_split\n",
    "\n",
    "ros = RandomOverSampler(random_state=42)\n",
    "X_resampled, y_resampled = ros.fit_resample(imputed_df.drop(columns=['Q16']), imputed_df['Q16'])\n",
    "df_resampled = pd.concat([pd.DataFrame(X_resampled, columns=imputed_df.drop(columns=['Q16']).columns), pd.Series(y_resampled, name='Q16')], axis=1)\n",
    "print(f\"Imputed data shape: {df_resampled.shape}\")\n",
    "\n",
    "# Assuming df_resampled is your balanced DataFrame\n",
    "X = df_resampled.drop(columns=['Q16'])\n",
    "y = df_resampled['Q16']\n",
    "\n",
    "# # Splitting the data into training and test sets (80% train, 20% test)\n",
    "# X_train, X_test, y_train, y_test = train_test_split(X, y, test_size=0.2, random_state=42)\n",
    "\n",
    "# Use stratified sampling\n",
    "X_train, X_test, y_train, y_test = train_test_split(X, y, test_size=0.2, random_state=42)"
   ]
  },
  {
   "cell_type": "code",
   "execution_count": 7,
   "id": "16cac8c3",
   "metadata": {},
   "outputs": [
    {
     "name": "stdout",
     "output_type": "stream",
     "text": [
      "Decision Tree Accuracy: 0.6969\n",
      "Random Forest Accuracy: 0.7721\n",
      "Gradient Boosting Accuracy: 0.7667\n",
      "Gaussian Naive Bayes Accuracy: 0.6936\n",
      "AdaBoost Accuracy: 0.7572\n"
     ]
    }
   ],
   "source": [
    "from sklearn.tree import DecisionTreeClassifier\n",
    "from sklearn.ensemble import RandomForestClassifier, GradientBoostingClassifier, AdaBoostClassifier\n",
    "from sklearn.naive_bayes import GaussianNB\n",
    "from sklearn.model_selection import cross_val_score\n",
    "from imblearn.over_sampling import SMOTE\n",
    "\n",
    "# Assuming 'X' is your features and 'y' is your target variable\n",
    "# 'X_train_balanced' and 'y_train_balanced' are the balanced training data\n",
    "\n",
    "# Initialize models\n",
    "decision_tree = DecisionTreeClassifier(random_state=42)\n",
    "random_forest = RandomForestClassifier(random_state=42)\n",
    "gradient_boosting = GradientBoostingClassifier(random_state=42)\n",
    "gaussian_nb = GaussianNB()\n",
    "adaboost = AdaBoostClassifier(random_state=42)\n",
    "\n",
    "classifiers = {\n",
    "    'Decision Tree': decision_tree,\n",
    "    'Random Forest': random_forest,\n",
    "    'Gradient Boosting': gradient_boosting,\n",
    "    'Gaussian Naive Bayes': gaussian_nb,\n",
    "    'AdaBoost': adaboost\n",
    "}\n",
    "\n",
    "# Perform 5-fold cross-validation for each classifier using balanced data\n",
    "for clf_name, clf in classifiers.items():\n",
    "    # Calculate cross-validated accuracy using balanced data\n",
    "    scores = cross_val_score(clf, X_train, y_train, cv=5)\n",
    "    avg_accuracy = scores.mean()\n",
    "    print(f\"{clf_name} Accuracy: {avg_accuracy:.4f}\")\n"
   ]
  },
  {
   "cell_type": "code",
   "execution_count": 8,
   "id": "4f53d001",
   "metadata": {},
   "outputs": [
    {
     "name": "stdout",
     "output_type": "stream",
     "text": [
      "KNN Accuracy: 0.7182\n",
      "SVM Accuracy: 0.7653\n",
      "Neural Network Accuracy: 0.7132\n",
      "Logistic Regression Accuracy: 0.7624\n",
      "SGD Accuracy: 0.7380\n"
     ]
    }
   ],
   "source": [
    "from sklearn.model_selection import cross_val_score\n",
    "from sklearn.preprocessing import MinMaxScaler\n",
    "from sklearn.neighbors import KNeighborsClassifier\n",
    "from sklearn.svm import SVC\n",
    "from sklearn.neural_network import MLPClassifier\n",
    "from sklearn.linear_model import LogisticRegression , SGDClassifier\n",
    "from sklearn.model_selection import train_test_split\n",
    "from imblearn.over_sampling import SMOTE\n",
    "\n",
    "# Assuming 'X' is your features and 'y' is your target variable\n",
    "# 'X_train_balanced' and 'y_train_balanced' are the balanced training data\n",
    "\n",
    "# Scaling the data using StandardScaler\n",
    "scaler = MinMaxScaler()\n",
    "X_train_scaled = scaler.fit_transform(X_train)\n",
    "X_test_scaled = scaler.transform(X_test)\n",
    "\n",
    "# Initialize models\n",
    "knn = KNeighborsClassifier()\n",
    "svm = SVC()\n",
    "mlp = MLPClassifier(max_iter=1000, solver='adam', learning_rate_init=0.001, tol=1e-4)\n",
    "logistic = LogisticRegression(max_iter=1000)\n",
    "sgd = SGDClassifier(max_iter=1000, tol=1e-4)\n",
    "\n",
    "classifiers = {\n",
    "    'KNN': knn,\n",
    "    'SVM': svm,\n",
    "    'Neural Network': mlp,\n",
    "    'Logistic Regression': logistic,\n",
    "    'SGD': sgd\n",
    "}\n",
    "\n",
    "# Perform 5-fold cross-validation for each classifier using balanced data\n",
    "for clf_name, clf in classifiers.items():\n",
    "    # Calculate cross-validated accuracy using balanced data\n",
    "    scores = cross_val_score(clf, X_train, y_train, cv=5)\n",
    "    avg_accuracy = scores.mean()\n",
    "    print(f\"{clf_name} Accuracy: {avg_accuracy:.4f}\")\n"
   ]
  },
  {
   "cell_type": "code",
   "execution_count": 9,
   "id": "b7f8dc3a",
   "metadata": {},
   "outputs": [
    {
     "name": "stdout",
     "output_type": "stream",
     "text": [
      "KNN Accuracy: 0.7182\n",
      "SVM Accuracy: 0.7653\n",
      "Neural Network Accuracy: 0.7252\n",
      "Logistic Regression Accuracy: 0.7624\n",
      "SGD Accuracy: 0.6837\n"
     ]
    }
   ],
   "source": [
    "from sklearn.model_selection import cross_val_score\n",
    "from sklearn.preprocessing import StandardScaler\n",
    "from sklearn.neighbors import KNeighborsClassifier\n",
    "from sklearn.svm import SVC\n",
    "from sklearn.neural_network import MLPClassifier\n",
    "from sklearn.linear_model import LogisticRegression , SGDClassifier\n",
    "from sklearn.model_selection import train_test_split\n",
    "from imblearn.over_sampling import SMOTE\n",
    "\n",
    "# Assuming 'X' is your features and 'y' is your target variable\n",
    "# 'X_train_balanced' and 'y_train_balanced' are the balanced training data\n",
    "\n",
    "# Scaling the data using StandardScaler\n",
    "scaler = StandardScaler()\n",
    "X_train_scaled = scaler.fit_transform(X_train)\n",
    "X_test_scaled = scaler.transform(X_test)\n",
    "\n",
    "\n",
    "# Initialize models\n",
    "knn = KNeighborsClassifier()\n",
    "svm = SVC()\n",
    "mlp = MLPClassifier(max_iter=1000, solver='adam', learning_rate_init=0.001, tol=1e-4)\n",
    "logistic = LogisticRegression(max_iter=1000)\n",
    "sgd = SGDClassifier(max_iter=1000, tol=1e-4)\n",
    "\n",
    "classifiers = {\n",
    "    'KNN': knn,\n",
    "    'SVM': svm,\n",
    "    'Neural Network': mlp,\n",
    "    'Logistic Regression': logistic,\n",
    "    'SGD': sgd\n",
    "}\n",
    "\n",
    "# Perform 5-fold cross-validation for each classifier using balanced data\n",
    "for clf_name, clf in classifiers.items():\n",
    "    # Calculate cross-validated accuracy using balanced data\n",
    "    scores = cross_val_score(clf, X_train, y_train, cv=5)\n",
    "    avg_accuracy = scores.mean()\n",
    "    print(f\"{clf_name} Accuracy: {avg_accuracy:.4f}\")\n"
   ]
  },
  {
   "cell_type": "code",
   "execution_count": 11,
   "id": "83f76226-745c-435e-8e16-928a4dfa6d71",
   "metadata": {},
   "outputs": [
    {
     "name": "stdout",
     "output_type": "stream",
     "text": [
      "Random Forest - Fold 1: Accuracy = 0.7729\n",
      "Random Forest - Fold 2: Accuracy = 0.7605\n",
      "Random Forest - Fold 3: Accuracy = 0.7752\n",
      "Random Forest - Fold 4: Accuracy = 0.7783\n",
      "Random Forest - Fold 5: Accuracy = 0.7884\n",
      "Random Forest - Mean Accuracy: 0.7750\n"
     ]
    }
   ],
   "source": [
    "from sklearn.model_selection import cross_val_score, StratifiedKFold\n",
    "from sklearn.ensemble import RandomForestClassifier\n",
    "\n",
    "# Assuming 'X' is your feature matrix and 'y' is your target variable\n",
    "\n",
    "# Specify the number of folds (e.g., 5-fold cross-validation)\n",
    "num_folds = 5\n",
    "\n",
    "# Create a cross-validation object (StratifiedKFold is useful for maintaining class distribution)\n",
    "cv = StratifiedKFold(n_splits=num_folds, shuffle=True, random_state=42)\n",
    "\n",
    "# Create a Random Forest classifier\n",
    "rf_classifier = RandomForestClassifier()\n",
    "\n",
    "# Perform cross-validation for the Random Forest classifier\n",
    "accuracy_scores = cross_val_score(rf_classifier, X, y, cv=cv, scoring='accuracy')\n",
    "\n",
    "# Print the results\n",
    "for i, accuracy in enumerate(accuracy_scores, start=1):\n",
    "    print(f'Random Forest - Fold {i}: Accuracy = {accuracy:.4f}')\n",
    "\n",
    "# Calculate and print the mean accuracy across all folds\n",
    "mean_accuracy = accuracy_scores.mean()\n",
    "print(f'Random Forest - Mean Accuracy: {mean_accuracy:.4f}')\n",
    "\n"
   ]
  },
  {
   "cell_type": "code",
   "execution_count": null,
   "id": "f0f7563a-17d8-469c-8085-cbc834f21eeb",
   "metadata": {},
   "outputs": [],
   "source": []
  }
 ],
 "metadata": {
  "kernelspec": {
   "display_name": "Python 3 (ipykernel)",
   "language": "python",
   "name": "python3"
  },
  "language_info": {
   "codemirror_mode": {
    "name": "ipython",
    "version": 3
   },
   "file_extension": ".py",
   "mimetype": "text/x-python",
   "name": "python",
   "nbconvert_exporter": "python",
   "pygments_lexer": "ipython3",
   "version": "3.11.4"
  }
 },
 "nbformat": 4,
 "nbformat_minor": 5
}
