{
 "cells": [
  {
   "cell_type": "code",
   "execution_count": 1,
   "id": "e7db9985",
   "metadata": {},
   "outputs": [],
   "source": [
    "import pandas as pd\n",
    "import numpy as np \n",
    "import seaborn as sns\n",
    "import matplotlib.pyplot as plt\n",
    "from sklearn.decomposition import PCA\n",
    "from sklearn.preprocessing import StandardScaler\n",
    "from sklearn.preprocessing import MinMaxScaler"
   ]
  },
  {
   "cell_type": "code",
   "execution_count": 2,
   "id": "2675bd3d",
   "metadata": {
    "scrolled": true
   },
   "outputs": [],
   "source": [
    "df=pd.read_excel(r'C:\\Users\\asus\\Desktop\\dersler\\464\\CENG 464 - Data Mining - Course Project\\Course Project - Data for Classification - Electric Vehicles.xls')\n",
    "#df.head()"
   ]
  },
  {
   "cell_type": "code",
   "execution_count": 3,
   "id": "111e4ee4",
   "metadata": {},
   "outputs": [],
   "source": [
    "#print(df.dtypes)"
   ]
  },
  {
   "cell_type": "code",
   "execution_count": 4,
   "id": "23070e53",
   "metadata": {},
   "outputs": [],
   "source": [
    "#print(df['Q16'].unique()) \n"
   ]
  },
  {
   "cell_type": "code",
   "execution_count": 5,
   "id": "4f0af2d5",
   "metadata": {},
   "outputs": [
    {
     "data": {
      "text/plain": [
       "A    2883\n",
       "B    1526\n",
       "C     892\n",
       "D     807\n",
       "Name: Q16, dtype: int64"
      ]
     },
     "execution_count": 5,
     "metadata": {},
     "output_type": "execute_result"
    }
   ],
   "source": [
    "df['Q16'].value_counts() "
   ]
  },
  {
   "cell_type": "code",
   "execution_count": 6,
   "id": "e217a002",
   "metadata": {},
   "outputs": [],
   "source": [
    "# Assuming 'df' is your DataFrame\n",
    "import numpy as np\n",
    "\n",
    "# Replace non-numeric values with NaN\n",
    "df.replace('?', np.nan, inplace=True)\n",
    "#df.head()"
   ]
  },
  {
   "cell_type": "code",
   "execution_count": 7,
   "id": "36ed904e",
   "metadata": {
    "scrolled": true
   },
   "outputs": [
    {
     "name": "stdout",
     "output_type": "stream",
     "text": [
      "Imputed data shape: (6108, 75)\n"
     ]
    }
   ],
   "source": [
    "import pandas as pd\n",
    "\n",
    "# Assuming 'df' is your DataFrame\n",
    "exclude_column_name = 'Q16'  # Column to exclude from imputation\n",
    "\n",
    "# Save the excluded column\n",
    "column_to_exclude = df[exclude_column_name]\n",
    "\n",
    "# Drop the column you want to exclude for imputation\n",
    "columns_to_impute = df.drop(columns=[exclude_column_name])\n",
    "\n",
    "# Impute missing values with median\n",
    "imputed_data = columns_to_impute.fillna(columns_to_impute.median())\n",
    "\n",
    "# Create a DataFrame with imputed values\n",
    "imputed_df = pd.concat([imputed_data, column_to_exclude], axis=1)\n",
    "\n",
    "# Check the shape of the imputed data\n",
    "print(f\"Imputed data shape: {imputed_df.shape}\")\n"
   ]
  },
  {
   "cell_type": "code",
   "execution_count": 8,
   "id": "d0f64784",
   "metadata": {
    "scrolled": true
   },
   "outputs": [
    {
     "name": "stdout",
     "output_type": "stream",
     "text": [
      "Q11_1: int64\n",
      "Q11_2: int64\n",
      "Q11_3: int64\n",
      "Q11_4: int64\n",
      "Q11_5: int64\n",
      "Q11_6: int64\n",
      "Q11_7: int64\n",
      "Q11_8: int64\n",
      "Q11_9: int64\n",
      "Q11_10: int64\n",
      "Q11_11: int64\n",
      "Q11_12: int64\n",
      "Q11_13: int64\n",
      "Q11_Dont_Know: int64\n",
      "Q12_1: int64\n",
      "Q12_2: int64\n",
      "Q12_3: int64\n",
      "Q12_4: int64\n",
      "Q12_5: int64\n",
      "Q12_6: int64\n",
      "Q12_7: int64\n",
      "Q12_8: int64\n",
      "Q12_9: int64\n",
      "Q12_10: int64\n",
      "Q12_11: int64\n",
      "Q12_12: int64\n",
      "Q12_13: int64\n",
      "Q12_14: int64\n",
      "Q12_Dont_Know: int64\n",
      "Q13_1: int64\n",
      "Q13_2: int64\n",
      "Q13_3: int64\n",
      "Q13_4: int64\n",
      "Q13_5: int64\n",
      "Q13_6: int64\n",
      "Q13_7: int64\n",
      "Q13_8: int64\n",
      "Q13_9: int64\n",
      "Q13_10: int64\n",
      "Q13_11: int64\n",
      "Q13_12: int64\n",
      "Q13_13: int64\n",
      "Q13_14: int64\n",
      "Q13_15: int64\n",
      "Q13_16: int64\n",
      "Q13_Dont_Know: int64\n",
      "Q14: float64\n",
      "Q15: float64\n",
      "Q17: float64\n",
      "Q18_1: float64\n",
      "Q18_2: float64\n",
      "Q18_3: float64\n",
      "Q18_4: float64\n",
      "Q18_5: float64\n",
      "Q18_6: float64\n",
      "Q18_7: float64\n",
      "Q18_8: float64\n",
      "Q18_9: float64\n",
      "Q18_10: float64\n",
      "Q18_11: float64\n",
      "Q18_12: float64\n",
      "Q18_13: float64\n",
      "Q18_14: float64\n",
      "Q18_15: float64\n",
      "Q18_16: float64\n",
      "Q18_17: float64\n",
      "Q18_18: float64\n",
      "Q18_19: float64\n",
      "Q18_20: float64\n",
      "Q18_21: float64\n",
      "Q18_22: float64\n",
      "Q18_23: float64\n",
      "Q20: int64\n",
      "Q21: int64\n",
      "Q16: object\n"
     ]
    }
   ],
   "source": [
    "for column, dtype in imputed_df.dtypes.items():\n",
    "    print(f\"{column}: {dtype}\")"
   ]
  },
  {
   "cell_type": "code",
   "execution_count": 9,
   "id": "9339b831",
   "metadata": {
    "scrolled": true
   },
   "outputs": [
    {
     "name": "stdout",
     "output_type": "stream",
     "text": [
      "Q11_1     0\n",
      "Q11_2     0\n",
      "Q11_3     0\n",
      "Q11_4     0\n",
      "Q11_5     0\n",
      "         ..\n",
      "Q18_22    0\n",
      "Q18_23    0\n",
      "Q20       0\n",
      "Q21       0\n",
      "Q16       0\n",
      "Length: 75, dtype: int64\n"
     ]
    }
   ],
   "source": [
    "print(imputed_df.isnull().sum())"
   ]
  },
  {
   "cell_type": "code",
   "execution_count": 10,
   "id": "a5dfe70f",
   "metadata": {},
   "outputs": [],
   "source": [
    "# from scipy import stats\n",
    "\n",
    "# # Assuming 'imputed_df' is your DataFrame after imputation\n",
    "# numeric_columns = imputed_df.select_dtypes(include=['float64', 'int64']).columns\n",
    "# numeric_df = imputed_df[numeric_columns]\n",
    "\n",
    "# # Calculate Z-scores for numeric data\n",
    "# z_scores = stats.zscore(numeric_df)\n",
    "# threshold = 3\n",
    "# outlier_indices = (abs(z_scores) > threshold).any(axis=1)\n",
    "# filtered_df = imputed_df[~outlier_indices]\n",
    "# imputed_df = filtered_df\n",
    "# print(f\"Shape after removing outliers: {filtered_df.shape}\")"
   ]
  },
  {
   "cell_type": "code",
   "execution_count": 11,
   "id": "aedb3e1f",
   "metadata": {
    "scrolled": true
   },
   "outputs": [
    {
     "name": "stdout",
     "output_type": "stream",
     "text": [
      "Ranked Features:\n",
      "Q14       0.159074\n",
      "Q17       0.146707\n",
      "Q12_14    0.130138\n",
      "Q18_14    0.111801\n",
      "Q21       0.110921\n",
      "            ...   \n",
      "Q11_11    0.000000\n",
      "Q11_8     0.000000\n",
      "Q12_12    0.000000\n",
      "Q12_13    0.000000\n",
      "Q11_2     0.000000\n",
      "Length: 74, dtype: float64\n"
     ]
    }
   ],
   "source": [
    "import pandas as pd\n",
    "from sklearn.feature_selection import mutual_info_classif\n",
    "\n",
    "import pandas as pd\n",
    "from sklearn.feature_selection import mutual_info_classif\n",
    "import matplotlib.pyplot as plt\n",
    "import seaborn as sns\n",
    "\n",
    "# Assuming df is your DataFrame\n",
    "target_column = 'Q16'\n",
    "threshold = 0.2  # Set your desired correlation threshold\n",
    "\n",
    "# Copy the DataFrame to avoid modifying the original\n",
    "imputed_df_copy = imputed_df.copy()\n",
    "\n",
    "# Use mutual_info_classif for feature selection with categorical target\n",
    "X = imputed_df_copy.drop(columns=[target_column])\n",
    "y = imputed_df_copy[target_column]\n",
    "\n",
    "# Calculate mutual information between features and target\n",
    "mutual_info_values = mutual_info_classif(X, y)\n",
    "\n",
    "# Create a Series with feature names and their mutual information scores\n",
    "feature_mutual_info = pd.Series(mutual_info_values, index=X.columns)\n",
    "\n",
    "# Select features based on the mutual information threshold\n",
    "selected_features = feature_mutual_info[feature_mutual_info > threshold].index.tolist()\n",
    "\n",
    "# Rank features by mutual information scores\n",
    "ranked_features = feature_mutual_info.sort_values(ascending=False)\n",
    "\n",
    "# Display the ranked features\n",
    "print(\"Ranked Features:\")\n",
    "print(ranked_features)"
   ]
  },
  {
   "cell_type": "code",
   "execution_count": 12,
   "id": "f2864afd",
   "metadata": {
    "scrolled": true
   },
   "outputs": [
    {
     "name": "stdout",
     "output_type": "stream",
     "text": [
      "   Q11_1  Q11_3  Q11_4  Q11_5  Q11_6  Q11_7  Q11_9  Q11_10  Q11_12  \\\n",
      "0      0      0      1      1      0      0      0       0       0   \n",
      "1      1      0      1      0      0      1      0       1       0   \n",
      "2      1      0      1      0      0      1      0       1       0   \n",
      "3      0      0      0      0      0      0      0       0       0   \n",
      "4      1      0      1      0      0      1      0       1       0   \n",
      "\n",
      "   Q11_Dont_Know  ...  Q18_16  Q18_17  Q18_18  Q18_19  Q18_20  Q18_21  Q18_22  \\\n",
      "0              0  ...     5.0     5.0     5.0     5.0     5.0     5.0     5.0   \n",
      "1              0  ...     2.0     4.0     2.0     4.0     2.0     2.0     2.0   \n",
      "2              0  ...     2.0     4.0     4.0     3.0     2.0     4.0     2.0   \n",
      "3              1  ...     2.0     3.0     2.0     3.0     2.0     3.0     2.0   \n",
      "4              0  ...     2.0     3.0     2.0     1.0     1.0     3.0     2.0   \n",
      "\n",
      "   Q18_23  Q20  Q21  \n",
      "0     5.0    3    3  \n",
      "1     2.0    3    3  \n",
      "2     4.0    4    1  \n",
      "3     2.0    3    3  \n",
      "4     2.0    3    3  \n",
      "\n",
      "[5 rows x 68 columns]\n"
     ]
    }
   ],
   "source": [
    "non_zero_features = feature_mutual_info[feature_mutual_info != 0]\n",
    "non_zero_columns = non_zero_features.index.tolist()\n",
    "\n",
    "# Create a new DataFrame with only the non-zero columns\n",
    "new_df = imputed_df[non_zero_columns].copy()\n",
    "\n",
    "# Verify the new DataFrame\n",
    "print(new_df.head())  # Check the first few rows"
   ]
  },
  {
   "cell_type": "code",
   "execution_count": 13,
   "id": "555a236d",
   "metadata": {},
   "outputs": [],
   "source": [
    "from sklearn.model_selection import train_test_split\n",
    "# Assuming 'df' is your DataFrame and 'Q16' is the column with values A, B, C, D\n",
    "mapping = {'A': 0, 'B': 1, 'C': 1, 'D': 1}\n",
    "imputed_df['Q16'] = imputed_df['Q16'].replace(mapping)\n",
    "\n",
    "X = new_df  # Feature matrix\n",
    "y = imputed_df['Q16']  # Target variable\n",
    "\n",
    "# Split the data into training and test sets (80% train, 20% test)\n",
    "#X_train, X_test, y_train, y_test = train_test_split(X, y, test_size=0.2, random_state=42)"
   ]
  },
  {
   "cell_type": "code",
   "execution_count": 14,
   "id": "e22a4d6c",
   "metadata": {
    "scrolled": true
   },
   "outputs": [
    {
     "name": "stdout",
     "output_type": "stream",
     "text": [
      "      Q14  Q17  Q12_14  Q18_14  Q21  Q13_16  Q18_1  Q18_3  Q18_8  Q18_10  ...  \\\n",
      "0     1.0  3.0       0     5.0    3       0    5.0    5.0    5.0     5.0  ...   \n",
      "1     3.0  3.0       0     4.0    3       0    4.0    2.0    3.0     3.0  ...   \n",
      "2     1.0  1.0       0     4.0    1       0    5.0    4.0    4.0     4.0  ...   \n",
      "3     2.0  2.0       1     3.0    3       1    4.0    3.0    3.0     3.0  ...   \n",
      "4     2.0  2.0       0     3.0    3       0    4.0    3.0    3.0     3.0  ...   \n",
      "...   ...  ...     ...     ...  ...     ...    ...    ...    ...     ...  ...   \n",
      "6103  5.0  2.0       0     3.0    3       0    3.0    2.0    4.0     3.0  ...   \n",
      "6104  2.0  2.0       0     4.0    3       0    4.0    3.0    4.0     3.0  ...   \n",
      "6105  1.0  2.0       0     2.0    2       0    5.0    5.0    4.0     4.0  ...   \n",
      "6106  3.0  2.0       0     4.0    3       0    3.0    5.0    3.0     4.0  ...   \n",
      "6107  2.0  2.0       0     3.0    3       0    3.0    3.0    3.0     3.0  ...   \n",
      "\n",
      "      Q11_3  Q13_11  Q12_11  Q11_4  Q13_10  Q11_6  Q11_1  Q12_9  Q11_10  Q12_6  \n",
      "0         0       0       1      1       0      0      0      0       0      0  \n",
      "1         0       1       0      1       0      0      1      0       1      0  \n",
      "2         0       0       0      1       0      0      1      0       1      0  \n",
      "3         0       0       0      0       0      0      0      0       0      0  \n",
      "4         0       0       0      1       0      0      1      0       1      0  \n",
      "...     ...     ...     ...    ...     ...    ...    ...    ...     ...    ...  \n",
      "6103      0       1       1      0       0      0      0      0       0      0  \n",
      "6104      0       0       0      1       0      0      0      0       0      0  \n",
      "6105      1       0       0      0       0      0      1      0       1      0  \n",
      "6106      1       0       0      0       0      0      0      0       0      0  \n",
      "6107      0       0       0      1       0      0      1      0       0      0  \n",
      "\n",
      "[6108 rows x 68 columns]\n"
     ]
    }
   ],
   "source": [
    "# Select non-zero mutual information scores and their corresponding features\n",
    "non_zero_features = ranked_features[ranked_features != 0]\n",
    "\n",
    "# Extract the top N non-zero features based on mutual information scores\n",
    "top_non_zero_features = non_zero_features.head(10)\n",
    "\n",
    "# Assign weights to the top non-zero features\n",
    "weights_non_zero = [1.5] * len(top_non_zero_features)  # Assign a higher weight to the top non-zero features\n",
    "\n",
    "# Create a dictionary to store feature-weight pairs for the top non-zero features\n",
    "weighted_non_zero_features = dict(zip(top_non_zero_features.index, weights_non_zero))\n",
    "\n",
    "# Assign default weight (1.0) to the rest of the features\n",
    "default_weight_non_zero = 1.0\n",
    "\n",
    "# Create a dictionary containing all non-zero features and their respective weights\n",
    "feature_weights_non_zero = {feature: weighted_non_zero_features.get(feature, default_weight_non_zero) for feature in non_zero_features.index}\n",
    "\n",
    "# Use these weights in your analysis or modeling\n",
    "# For instance, while fitting a model:\n",
    "# Your X matrix will be X[non_zero_features.index], and you can use feature_weights_non_zero in your algorithm\n",
    "\n",
    "# Example usage:\n",
    "weighted_X_non_zero = X[non_zero_features.index]  # Consider only the top non-zero features for analysis\n",
    "\n",
    "# Now, 'weighted_X_non_zero' contains only the top non-zero features based on the weighted approach\n",
    "print(weighted_X_non_zero)"
   ]
  },
  {
   "cell_type": "code",
   "execution_count": 15,
   "id": "376e6023",
   "metadata": {},
   "outputs": [],
   "source": [
    "# from sklearn.model_selection import train_test_split\n",
    "# from imblearn.over_sampling import SMOTE\n",
    "# from collections import Counter\n",
    "\n",
    "# X = new_df  # Feature matrix\n",
    "# # y = imputed_df['Q16']  # Target variable\n",
    "\n",
    "# # Split the data into training and test sets (80% train, 20% test)\n",
    "# X_train, X_test, y_train, y_test = train_test_split(X, y, test_size=0.2, random_state=42)\n",
    "\n",
    "# # Check the shapes of the resulting sets\n",
    "# print(f\"X_train shape: {X_train.shape}, y_train shape: {y_train.shape}\")\n",
    "# print(f\"X_test shape: {X_test.shape}, y_test shape: {y_test.shape}\")\n",
    "\n",
    "# sm = SMOTE(random_state=42)\n",
    "# X_train_balanced, y_train_balanced = sm.fit_resample(X_train, y_train)\n",
    "\n",
    "# # Check the class distribution after balancing\n",
    "# print(\"Before SMOTE:\", Counter(y_train))\n",
    "# print(\"After SMOTE:\", Counter(y_train_balanced))"
   ]
  },
  {
   "cell_type": "code",
   "execution_count": 16,
   "id": "16cac8c3",
   "metadata": {},
   "outputs": [
    {
     "ename": "NameError",
     "evalue": "name 'X_train_weighted' is not defined",
     "output_type": "error",
     "traceback": [
      "\u001b[1;31m---------------------------------------------------------------------------\u001b[0m",
      "\u001b[1;31mNameError\u001b[0m                                 Traceback (most recent call last)",
      "\u001b[1;32m~\\AppData\\Local\\Temp\\ipykernel_15580\\3314134022.py\u001b[0m in \u001b[0;36m<module>\u001b[1;34m\u001b[0m\n\u001b[0;32m     25\u001b[0m \u001b[1;32mfor\u001b[0m \u001b[0mclf_name\u001b[0m\u001b[1;33m,\u001b[0m \u001b[0mclf\u001b[0m \u001b[1;32min\u001b[0m \u001b[0mclassifiers\u001b[0m\u001b[1;33m.\u001b[0m\u001b[0mitems\u001b[0m\u001b[1;33m(\u001b[0m\u001b[1;33m)\u001b[0m\u001b[1;33m:\u001b[0m\u001b[1;33m\u001b[0m\u001b[1;33m\u001b[0m\u001b[0m\n\u001b[0;32m     26\u001b[0m     \u001b[1;31m# Calculate cross-validated accuracy using balanced data\u001b[0m\u001b[1;33m\u001b[0m\u001b[1;33m\u001b[0m\u001b[0m\n\u001b[1;32m---> 27\u001b[1;33m     \u001b[0mscores\u001b[0m \u001b[1;33m=\u001b[0m \u001b[0mcross_val_score\u001b[0m\u001b[1;33m(\u001b[0m\u001b[0mclf\u001b[0m\u001b[1;33m,\u001b[0m \u001b[0mX_train_weighted\u001b[0m\u001b[1;33m,\u001b[0m \u001b[0my_train\u001b[0m\u001b[1;33m,\u001b[0m \u001b[0mcv\u001b[0m\u001b[1;33m=\u001b[0m\u001b[1;36m5\u001b[0m\u001b[1;33m)\u001b[0m\u001b[1;33m\u001b[0m\u001b[1;33m\u001b[0m\u001b[0m\n\u001b[0m\u001b[0;32m     28\u001b[0m     \u001b[0mavg_accuracy\u001b[0m \u001b[1;33m=\u001b[0m \u001b[0mscores\u001b[0m\u001b[1;33m.\u001b[0m\u001b[0mmean\u001b[0m\u001b[1;33m(\u001b[0m\u001b[1;33m)\u001b[0m\u001b[1;33m\u001b[0m\u001b[1;33m\u001b[0m\u001b[0m\n\u001b[0;32m     29\u001b[0m     \u001b[0mprint\u001b[0m\u001b[1;33m(\u001b[0m\u001b[1;34mf\"{clf_name} Accuracy: {avg_accuracy:.4f}\"\u001b[0m\u001b[1;33m)\u001b[0m\u001b[1;33m\u001b[0m\u001b[1;33m\u001b[0m\u001b[0m\n",
      "\u001b[1;31mNameError\u001b[0m: name 'X_train_weighted' is not defined"
     ]
    }
   ],
   "source": [
    "from sklearn.tree import DecisionTreeClassifier\n",
    "from sklearn.ensemble import RandomForestClassifier, GradientBoostingClassifier, AdaBoostClassifier\n",
    "from sklearn.naive_bayes import GaussianNB\n",
    "from sklearn.model_selection import cross_val_score\n",
    "from imblearn.over_sampling import SMOTE\n",
    "\n",
    "# Assuming 'X_train' and 'y_train' are your balanced training data\n",
    "\n",
    "# Initialize models\n",
    "decision_tree = DecisionTreeClassifier(random_state=42)\n",
    "random_forest = RandomForestClassifier(random_state=42)\n",
    "gradient_boosting = GradientBoostingClassifier(random_state=42)\n",
    "gaussian_nb = GaussianNB()\n",
    "adaboost = AdaBoostClassifier(random_state=42)\n",
    "\n",
    "classifiers = {\n",
    "    'Decision Tree': decision_tree,\n",
    "    'Random Forest': random_forest,\n",
    "    'Gradient Boosting': gradient_boosting,\n",
    "    'Gaussian Naive Bayes': gaussian_nb,\n",
    "    'AdaBoost': adaboost\n",
    "}\n",
    "\n",
    "# Perform 5-fold cross-validation for each classifier using balanced data\n",
    "for clf_name, clf in classifiers.items():\n",
    "    # Calculate cross-validated accuracy using balanced data\n",
    "    scores = cross_val_score(clf, X_train_weighted, y_train, cv=5)\n",
    "    avg_accuracy = scores.mean()\n",
    "    print(f\"{clf_name} Accuracy: {avg_accuracy:.4f}\")\n"
   ]
  },
  {
   "cell_type": "code",
   "execution_count": null,
   "id": "4f53d001",
   "metadata": {},
   "outputs": [],
   "source": [
    "from sklearn.model_selection import cross_val_score\n",
    "from sklearn.preprocessing import MinMaxScaler\n",
    "from sklearn.neighbors import KNeighborsClassifier\n",
    "from sklearn.svm import SVC\n",
    "from sklearn.neural_network import MLPClassifier\n",
    "from sklearn.linear_model import LogisticRegression, SGDClassifier\n",
    "from sklearn.model_selection import train_test_split\n",
    "from imblearn.over_sampling import SMOTE\n",
    "\n",
    "# Assuming 'X_train_balanced' and 'y_train_balanced' are your balanced training data\n",
    "# Assuming 'X_test' and 'y_test' are your test data\n",
    "\n",
    "scaler = MinMaxScaler()\n",
    "X_train_scaled = scaler.fit_transform(X_train)\n",
    "X_test_scaled = scaler.transform(X_test)\n",
    "\n",
    "# Initialize models\n",
    "knn = KNeighborsClassifier()\n",
    "svm = SVC()\n",
    "mlp = MLPClassifier(max_iter=1000, solver='adam', learning_rate_init=0.001, tol=1e-4)\n",
    "logistic = LogisticRegression(max_iter=1000)\n",
    "sgd = SGDClassifier()\n",
    "\n",
    "classifiers = {\n",
    "    'KNN': knn,\n",
    "    'SVM': svm,\n",
    "    'Neural Network': mlp,\n",
    "    'Logistic Regression': logistic,\n",
    "    'SGD': sgd\n",
    "}\n",
    "\n",
    "# Perform 5-fold cross-validation for each classifier using balanced data\n",
    "for clf_name, clf in classifiers.items():\n",
    "    # Calculate cross-validated accuracy using balanced data\n",
    "    scores = cross_val_score(clf, X_train_weighted, y_train, cv=5)\n",
    "    avg_accuracy = scores.mean()\n",
    "    print(f\"{clf_name} Accuracy: {avg_accuracy:.4f}\")\n"
   ]
  },
  {
   "cell_type": "code",
   "execution_count": null,
   "id": "b7f8dc3a",
   "metadata": {
    "scrolled": true
   },
   "outputs": [],
   "source": [
    "from sklearn.model_selection import cross_val_score\n",
    "from sklearn.preprocessing import StandardScaler\n",
    "from sklearn.neighbors import KNeighborsClassifier\n",
    "from sklearn.svm import SVC\n",
    "from sklearn.neural_network import MLPClassifier\n",
    "from sklearn.linear_model import LogisticRegression, SGDClassifier\n",
    "from sklearn.model_selection import train_test_split\n",
    "from imblearn.over_sampling import SMOTE\n",
    "\n",
    "# Assuming 'X_train_balanced' and 'y_train_balanced' are your balanced training data\n",
    "# Assuming 'X_test' and 'y_test' are your test data\n",
    "\n",
    "scaler = StandardScaler()\n",
    "X_train_scaled = scaler.fit_transform(X_train)\n",
    "X_test_scaled = scaler.transform(X_test)\n",
    "\n",
    "# Initialize models\n",
    "knn = KNeighborsClassifier()\n",
    "svm = SVC()\n",
    "mlp = MLPClassifier(max_iter=1000, solver='adam', learning_rate_init=0.001, tol=1e-4)\n",
    "logistic = LogisticRegression(max_iter=1000)\n",
    "sgd = SGDClassifier()\n",
    "\n",
    "classifiers = {\n",
    "    'KNN': knn,\n",
    "    'SVM': svm,\n",
    "    'Neural Network': mlp,\n",
    "    'Logistic Regression': logistic,\n",
    "    'SGD': sgd\n",
    "}\n",
    "\n",
    "# Perform 5-fold cross-validation for each classifier using balanced data\n",
    "for clf_name, clf in classifiers.items():\n",
    "    # Calculate cross-validated accuracy using balanced data\n",
    "    scores = cross_val_score(clf, X_train_weighted, y_train, cv=5)\n",
    "    avg_accuracy = scores.mean()\n",
    "    print(f\"{clf_name} Accuracy: {avg_accuracy:.4f}\")\n"
   ]
  },
  {
   "cell_type": "code",
   "execution_count": null,
   "id": "72fff437",
   "metadata": {},
   "outputs": [],
   "source": []
  }
 ],
 "metadata": {
  "kernelspec": {
   "display_name": "Python 3 (ipykernel)",
   "language": "python",
   "name": "python3"
  },
  "language_info": {
   "codemirror_mode": {
    "name": "ipython",
    "version": 3
   },
   "file_extension": ".py",
   "mimetype": "text/x-python",
   "name": "python",
   "nbconvert_exporter": "python",
   "pygments_lexer": "ipython3",
   "version": "3.9.13"
  }
 },
 "nbformat": 4,
 "nbformat_minor": 5
}
